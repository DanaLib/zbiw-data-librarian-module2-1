{
 "cells": [
  {
   "cell_type": "markdown",
   "metadata": {},
   "source": [
    "# ZBIW Data Librarian Modul 2 - Präsenztag"
   ]
  },
  {
   "cell_type": "markdown",
   "metadata": {},
   "source": [
    "## Umlaut-Problematik"
   ]
  },
  {
   "cell_type": "markdown",
   "metadata": {},
   "source": [
    "Allgemeine Infos: https://docs.python.org/3/howto/unicode.html"
   ]
  },
  {
   "cell_type": "markdown",
   "metadata": {},
   "source": [
    "### Urllib\n",
    "\n",
    "Urllib kann nicht mit Umlauten oder anderen speziellen Sonderzeichen in der URL umgehen, daher muss bei Vorhandensein die URL vorher umgewandelt werden. Das geht beispielsweise mit der Funktion `urllib.parse.quote`.\n",
    "\n",
    "Link zur Doku: https://docs.python.org/3/library/urllib.parse.html#url-quoting\n",
    "\n",
    "Wenn das Ergebnis vom Request empfangen wird, wird der `decode` Funktion explizit das Encoding als Parameter mitgegeben, um korrekt encodete Daten zu erhalten.\n",
    "\n",
    "Die `decode` Funktion ist Teil der Standard-Library: https://docs.python.org/3/library/stdtypes.html#bytes.decode"
   ]
  },
  {
   "cell_type": "code",
   "execution_count": null,
   "metadata": {},
   "outputs": [],
   "source": [
    "import json\n",
    "import urllib.request\n",
    "import urllib.parse\n",
    "\n",
    "# Umlaute in der URL:\n",
    "url = \"https://www.bibsonomy.org/json/search/\" + parse.quote(\"Lösungen\") + \"?items=1000&duplicates=merged\"\n",
    "\n",
    "f = urllib.request.urlopen(url)\n",
    "print(type(f))"
   ]
  },
  {
   "cell_type": "code",
   "execution_count": null,
   "metadata": {},
   "outputs": [],
   "source": [
    "read = f.read() # read() ist Methode des HTTPResponse-Objektes\n",
    "print(type(read)) # Rückgabe-Typ = bytes"
   ]
  },
  {
   "cell_type": "code",
   "execution_count": null,
   "metadata": {},
   "outputs": [],
   "source": [
    "result = read.decode('utf-8') # Decoden der Bytes in einen str\n",
    "\n",
    "# Ergebnis ist str, muss erst noch als JSON verarbeitet werden (Ergebnis = dict)\n",
    "data = json.loads(result) # json.loads() lädt JSON Daten aus einem String\n",
    "data"
   ]
  },
  {
   "cell_type": "markdown",
   "metadata": {},
   "source": [
    "### Requests\n",
    "\n",
    "https://2.python-requests.org/en/master/user/quickstart/#response-content\n",
    "\n",
    "\"When you make a request, Requests makes educated guesses about the encoding of the response based on the HTTP headers. The text encoding guessed by Requests is used when you access `r.text`. You can find out what encoding Requests is using, and change it, using the `r.encoding` property:\""
   ]
  },
  {
   "cell_type": "code",
   "execution_count": null,
   "metadata": {},
   "outputs": [],
   "source": [
    "# requests hat kein Problem mit Umlauten in URLs\n",
    "url = \"https://www.bibsonomy.org/json/search/Lösungen?items=1000&duplicates=merged\""
   ]
  },
  {
   "cell_type": "code",
   "execution_count": null,
   "metadata": {},
   "outputs": [],
   "source": [
    "import requests\n",
    "\n",
    "result = requests.get(url) # result ist ein requests.models.Response Objekt\n",
    "result.encoding # Das Encoding der Response lässt sich abfragen"
   ]
  },
  {
   "cell_type": "code",
   "execution_count": null,
   "metadata": {},
   "outputs": [],
   "source": [
    "# Encoding lässt sich auch ändern:\n",
    "result.encoding = 'ISO-8859-1'"
   ]
  },
  {
   "cell_type": "code",
   "execution_count": null,
   "metadata": {
    "scrolled": false
   },
   "outputs": [],
   "source": [
    "data = result.json()\n",
    "print(data)"
   ]
  },
  {
   "cell_type": "markdown",
   "metadata": {},
   "source": [
    "---"
   ]
  },
  {
   "cell_type": "markdown",
   "metadata": {},
   "source": [
    "## Crossref-Fragen\n",
    "\n",
    "### Facets\n",
    "\n",
    "Facets sind dazu da, Ergebnislisten nach Facetten aufzuteilen.\n",
    "\n",
    "Im konkreten Beispiel der Facette \"published\" besteht die Semantik darin, dass man die maximale Anzahl der zurückzuliefernden Facetten angibt. Die Angabe `facet=published:2015` bedeutet also nicht, dass man alle Publikationen aus 2015 erhält, sondern dass im Ergebnis maximal 2015 Facetten aufgelistet werden. Der Maximalwert ist aber nur 51.\n",
    "\n",
    "Die Ergebnismenge wird durch die Facettenangabe nicht beeinflusst.\n",
    "\n",
    "Siehe Doku: https://github.com/CrossRef/rest-api-doc#facet-counts"
   ]
  },
  {
   "cell_type": "code",
   "execution_count": null,
   "metadata": {},
   "outputs": [],
   "source": [
    "url = \"https://api.crossref.org/works?query.author=herpers&rows=1000&facet=published:2015\""
   ]
  },
  {
   "cell_type": "code",
   "execution_count": null,
   "metadata": {},
   "outputs": [],
   "source": [
    "result = requests.get(url)\n",
    "data = result.json()\n",
    "data['message']['total-results']"
   ]
  },
  {
   "cell_type": "code",
   "execution_count": null,
   "metadata": {},
   "outputs": [],
   "source": [
    "url = \"https://api.crossref.org/works?query.author=herpers&rows=1000\"\n",
    "result = requests.get(url)\n",
    "data = result.json()\n",
    "data['message']['total-results']"
   ]
  },
  {
   "cell_type": "markdown",
   "metadata": {},
   "source": [
    "Filter demgegenüber werden verwendet, um die Ergebnisse nach bestimmten Kriterien zu filtern. Es gibt eine ganze Menge verfügbarer Filter, siehe Doku: https://github.com/CrossRef/rest-api-doc#filter-names\n",
    "\n",
    "Hier ein Beispiel, mit dem die Ergebnisliste korrekt nach Jahreszahl des Publikationsjahres gefiltert wird:"
   ]
  },
  {
   "cell_type": "code",
   "execution_count": null,
   "metadata": {},
   "outputs": [],
   "source": [
    "url = \"https://api.crossref.org/works?query.author=herpers&rows=1000&filter=from-pub-date:2015,until-pub-date:2015\"\n",
    "result = requests.get(url)\n",
    "data = result.json()\n",
    "data['message']['total-results']"
   ]
  },
  {
   "cell_type": "markdown",
   "metadata": {},
   "source": [
    "### Etiquette\n",
    "\n",
    "Generell ist davon abzuraten, einen fremden Webserver mit allzu häufigen Anfragen zu bombardieren. Vermeidungsstrategien sind hierbei, wie auch in der Crossref-Etiquette angegeben, gezielte Pausen zwischen Abfragen, sowie Caching. Caching ist insbesondere bei wiederholt gleichen Anfragen anzuraten. Bei verschiedenen Anfragen sollte zwischen jeder Anfrage eine kleine Pause eingehalten werden. Hierfür gibt es keine festen Vorschriften, eine Minute sollte ausreichend sein."
   ]
  },
  {
   "cell_type": "markdown",
   "metadata": {},
   "source": [
    "---"
   ]
  },
  {
   "cell_type": "markdown",
   "metadata": {},
   "source": [
    "## OAI-PMH APIs mit Python abfragen"
   ]
  },
  {
   "cell_type": "code",
   "execution_count": null,
   "metadata": {},
   "outputs": [],
   "source": [
    "#import sys\n",
    "#!conda install --yes --prefix {sys.prefix} -c auto pyoai\n",
    "#!{sys.executable} -m pip install pyoai"
   ]
  },
  {
   "cell_type": "code",
   "execution_count": null,
   "metadata": {},
   "outputs": [],
   "source": [
    "OAI_PHM_URL = 'https://www.ssoar.info/OAIHandler/request'"
   ]
  },
  {
   "cell_type": "code",
   "execution_count": null,
   "metadata": {},
   "outputs": [],
   "source": [
    "from oaipmh.client import Client\n",
    "from oaipmh.metadata import MetadataRegistry, oai_dc_reader\n",
    "\n",
    "registry = MetadataRegistry()\n",
    "registry.registerReader('oai_dc', oai_dc_reader)\n",
    "client = Client(OAI_PHM_URL, registry)"
   ]
  },
  {
   "cell_type": "code",
   "execution_count": null,
   "metadata": {},
   "outputs": [],
   "source": [
    "# Get single record\n",
    "record = client.getRecord(metadataPrefix='oai_dc', identifier='oai:gesis.izsoz.de:document/679')\n",
    "header = record[0]\n",
    "print('id: {}'.format(header.identifier()))\n",
    "print('element: {}'.format(header.element()))\n",
    "print('datestamp: {}'.format(header.datestamp()))"
   ]
  },
  {
   "cell_type": "code",
   "execution_count": null,
   "metadata": {},
   "outputs": [],
   "source": [
    "metadata = record[1].getMap()\n",
    "if 'creator' in metadata:\n",
    "    print('creator: {}'.format(metadata['creator']))"
   ]
  },
  {
   "cell_type": "code",
   "execution_count": null,
   "metadata": {},
   "outputs": [],
   "source": [
    "# List records\n",
    "for record in client.listRecords(metadataPrefix='oai_dc'):\n",
    "    header = record[0]\n",
    "    print('id: {}'.format(header.identifier()))\n",
    "    metadata = record[1].getMap()\n",
    "    if 'creator' in metadata:\n",
    "        print('creator: {}'.format(metadata['creator']))\n",
    "    if 'title' in metadata:\n",
    "        print('title: {}'.format(metadata['title']))\n",
    "    print()"
   ]
  },
  {
   "cell_type": "markdown",
   "metadata": {},
   "source": [
    "---"
   ]
  },
  {
   "cell_type": "markdown",
   "metadata": {},
   "source": [
    "## XML Verarbeitung\n",
    "\n",
    "Es gibt viele Libraries, mit denen man in Python XML verarbeiten kann. Eine Liste:\n",
    "\n",
    "* xml.dom ([Standard](https://docs.python.org/3.5/library/xml.dom.html#)) \n",
    "* xml.etree ([Standard](https://docs.python.org/3.8/library/xml.etree.elementtree.html#))              \n",
    "* libxml2 (C extension)\n",
    "* BeautifulSoup ([Extern](https://www.crummy.com/software/BeautifulSoup/bs4/doc/))\n",
    "\n",
    "Im Folgenden ein kleines Beispiel mit den Möglichkeiten der Standard-Library.\n",
    "\n",
    "Doku: https://docs.python.org/3.8/library/xml.etree.elementtree.html#"
   ]
  },
  {
   "cell_type": "code",
   "execution_count": null,
   "metadata": {},
   "outputs": [],
   "source": [
    "url = \"https://www.bibsonomy.org/layout/dblp/search/Bibliothek?items=100\"\n",
    "\n",
    "import requests\n",
    "result = requests.get(url)\n",
    "\n",
    "type(result)"
   ]
  },
  {
   "cell_type": "code",
   "execution_count": null,
   "metadata": {},
   "outputs": [],
   "source": [
    "result.text"
   ]
  },
  {
   "cell_type": "code",
   "execution_count": null,
   "metadata": {},
   "outputs": [],
   "source": [
    "from xml.etree import ElementTree as ET\n",
    "from xml.etree.ElementTree import fromstring\n",
    "\n",
    "tree = ET.ElementTree(fromstring(result.text))\n",
    "root = tree.getroot()\n",
    "root"
   ]
  },
  {
   "cell_type": "code",
   "execution_count": null,
   "metadata": {},
   "outputs": [],
   "source": [
    "for book in root.findall('book'):\n",
    "    key = book.get('key')\n",
    "    print(key)\n",
    "    title = book.find('title').text\n",
    "    print(title)\n",
    "    print()"
   ]
  },
  {
   "cell_type": "code",
   "execution_count": null,
   "metadata": {},
   "outputs": [],
   "source": []
  }
 ],
 "metadata": {
  "kernelspec": {
   "display_name": "Python 3",
   "language": "python",
   "name": "python3"
  },
  "language_info": {
   "codemirror_mode": {
    "name": "ipython",
    "version": 3
   },
   "file_extension": ".py",
   "mimetype": "text/x-python",
   "name": "python",
   "nbconvert_exporter": "python",
   "pygments_lexer": "ipython3",
   "version": "3.7.1"
  }
 },
 "nbformat": 4,
 "nbformat_minor": 2
}
