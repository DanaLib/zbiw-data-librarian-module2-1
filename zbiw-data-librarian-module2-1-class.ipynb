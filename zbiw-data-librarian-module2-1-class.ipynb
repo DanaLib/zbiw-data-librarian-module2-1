{
 "cells": [
  {
   "cell_type": "markdown",
   "metadata": {},
   "source": [
    "# ZBIW Data Librarian Modul 2 - Präsenztag"
   ]
  },
  {
   "cell_type": "markdown",
   "metadata": {},
   "source": [
    "## Umlaut-Problematik"
   ]
  },
  {
   "cell_type": "markdown",
   "metadata": {},
   "source": [
    "Allgemeine Infos: https://docs.python.org/3/howto/unicode.html\n",
    "\n",
    "Bytes als String decodieren: https://docs.python.org/3/library/stdtypes.html#bytes.decode\n",
    "\n",
    "Strings als Bytes codieren: https://docs.python.org/3/library/stdtypes.html#str.encode\n",
    "\n",
    "Verfügbare Encodings: https://docs.python.org/3/library/codecs.html#standard-encodings\n",
    "\n",
    "Codecs: https://docs.python.org/3/library/codecs.html#module-codecs"
   ]
  },
  {
   "cell_type": "markdown",
   "metadata": {},
   "source": [
    "### Dateien lesen und schreiben mit korrektem Encoding\n",
    "\n",
    "Python nimmt implizit das Encoding des Systems an."
   ]
  },
  {
   "cell_type": "code",
   "execution_count": null,
   "metadata": {},
   "outputs": [],
   "source": [
    "import locale\n",
    "locale.getpreferredencoding() "
   ]
  },
  {
   "cell_type": "markdown",
   "metadata": {},
   "source": [
    "Um explizit das Encoding zu setzen, wird der Parameter `encoding` der `open` Funktion verwendet:"
   ]
  },
  {
   "cell_type": "code",
   "execution_count": null,
   "metadata": {},
   "outputs": [],
   "source": [
    "with open('data/test.txt', 'r', encoding='cp1252') as f:\n",
    "    for line in f:\n",
    "        print(line)"
   ]
  },
  {
   "cell_type": "markdown",
   "metadata": {},
   "source": [
    "### Urllib\n",
    "\n",
    "Urllib kann nicht mit Umlauten oder anderen speziellen Sonderzeichen in der URL umgehen, daher muss bei Vorhandensein die URL vorher umgewandelt werden. Das geht beispielsweise mit der Funktion `urllib.parse.quote`.\n",
    "\n",
    "Link zur Doku: https://docs.python.org/3/library/urllib.parse.html#url-quoting"
   ]
  },
  {
   "cell_type": "code",
   "execution_count": null,
   "metadata": {},
   "outputs": [],
   "source": [
    "import json\n",
    "import urllib.request\n",
    "import urllib.parse\n",
    "\n",
    "# Umlaute in der URL:\n",
    "url = \"https://www.bibsonomy.org/json/search/\" + urllib.parse.quote(\"Lösungen\") + \"?items=1000&duplicates=merged\"\n",
    "\n",
    "f = urllib.request.urlopen(url)\n",
    "print(type(f))"
   ]
  },
  {
   "cell_type": "code",
   "execution_count": null,
   "metadata": {},
   "outputs": [],
   "source": [
    "# Prüfen wie die geparste URL aussieht:\n",
    "url"
   ]
  },
  {
   "cell_type": "code",
   "execution_count": null,
   "metadata": {},
   "outputs": [],
   "source": [
    "read = f.read() # read() ist Methode des HTTPResponse-Objektes\n",
    "print(type(read)) # Rückgabe-Typ = bytes"
   ]
  },
  {
   "cell_type": "markdown",
   "metadata": {},
   "source": [
    "Wenn das Ergebnis vom Request empfangen wird, wird der `decode` Funktion explizit das Encoding als Parameter mitgegeben, um korrekt encodete Daten zu erhalten.\n",
    "\n",
    "Die `decode` Funktion ist Teil der Standard-Library: https://docs.python.org/3/library/stdtypes.html#bytes.decode"
   ]
  },
  {
   "cell_type": "code",
   "execution_count": null,
   "metadata": {},
   "outputs": [],
   "source": [
    "result = read.decode('utf-8') # Decoden der Bytes in einen str\n",
    "\n",
    "# Ergebnis ist str, muss erst noch als JSON verarbeitet werden (Ergebnis = dict)\n",
    "data = json.loads(result) # json.loads() lädt JSON Daten aus einem String\n",
    "data"
   ]
  },
  {
   "cell_type": "markdown",
   "metadata": {},
   "source": [
    "### Requests\n",
    "\n",
    "https://2.python-requests.org/en/master/user/quickstart/#response-content\n",
    "\n",
    "\"When you make a request, Requests makes educated guesses about the encoding of the response based on the HTTP headers. The text encoding guessed by Requests is used when you access `r.text`. You can find out what encoding Requests is using, and change it, using the `r.encoding` property:\""
   ]
  },
  {
   "cell_type": "code",
   "execution_count": null,
   "metadata": {},
   "outputs": [],
   "source": [
    "# requests hat kein Problem mit Umlauten in URLs\n",
    "url = \"https://www.bibsonomy.org/json/search/Lösungen?items=1000&duplicates=merged\""
   ]
  },
  {
   "cell_type": "code",
   "execution_count": null,
   "metadata": {},
   "outputs": [],
   "source": [
    "import requests\n",
    "\n",
    "result = requests.get(url) # result ist ein requests.models.Response Objekt\n",
    "result.encoding # Das Encoding der Response lässt sich abfragen"
   ]
  },
  {
   "cell_type": "code",
   "execution_count": null,
   "metadata": {},
   "outputs": [],
   "source": [
    "# Encoding lässt sich auch ändern:\n",
    "result.encoding = 'ISO-8859-1'"
   ]
  },
  {
   "cell_type": "code",
   "execution_count": null,
   "metadata": {
    "scrolled": true
   },
   "outputs": [],
   "source": [
    "data = result.json()\n",
    "data # die JSON Daten sind jetzt im vorgegebenen Encoding"
   ]
  },
  {
   "cell_type": "markdown",
   "metadata": {},
   "source": [
    "---"
   ]
  },
  {
   "cell_type": "markdown",
   "metadata": {},
   "source": [
    "## REST-APIs abfragen\n",
    "\n",
    "Weiteres Beispiel CrossRef: https://github.com/CrossRef/rest-api-doc"
   ]
  },
  {
   "cell_type": "code",
   "execution_count": null,
   "metadata": {},
   "outputs": [],
   "source": [
    "url = \"https://api.crossref.org/works?query.author=herpers&rows=100\"\n",
    "result = requests.get(url)\n",
    "data = result.json()"
   ]
  },
  {
   "cell_type": "code",
   "execution_count": null,
   "metadata": {},
   "outputs": [],
   "source": [
    "data.keys() # was für Keys haben wir"
   ]
  },
  {
   "cell_type": "code",
   "execution_count": null,
   "metadata": {},
   "outputs": [],
   "source": [
    "data['message']['total-results'] # wie viele Ergebnisse laut der Antwort der API"
   ]
  },
  {
   "cell_type": "code",
   "execution_count": null,
   "metadata": {},
   "outputs": [],
   "source": [
    "data['message'].keys() # was für Keys haben wir innerhalb des Dictionaries 'message'"
   ]
  },
  {
   "cell_type": "code",
   "execution_count": null,
   "metadata": {},
   "outputs": [],
   "source": [
    "type(data['message']['items']) # welche Datenstruktur "
   ]
  },
  {
   "cell_type": "code",
   "execution_count": null,
   "metadata": {},
   "outputs": [],
   "source": [
    "items = data['message']['items']\n",
    "len(items) # wie viele Ergebnisse haben wir bekommen"
   ]
  },
  {
   "cell_type": "code",
   "execution_count": null,
   "metadata": {},
   "outputs": [],
   "source": [
    "items[0] # Einblick ins Ergebnis"
   ]
  },
  {
   "cell_type": "markdown",
   "metadata": {},
   "source": [
    "Einige APIs bieten **Filter** als URL-Parameter an, um die Ergebnisse schon bei Abfrage nach bestimmten Kriterien zu filtern. Es gibt eine ganze Menge verfügbarer Filter bei Crossref, siehe Doku: https://github.com/CrossRef/rest-api-doc#filter-names\n",
    "\n",
    "Hier ein Beispiel, mit dem die Ergebnisliste nach Jahreszahl des Publikationsjahres gefiltert wird:"
   ]
  },
  {
   "cell_type": "code",
   "execution_count": null,
   "metadata": {},
   "outputs": [],
   "source": [
    "url = \"https://api.crossref.org/works?query.author=herpers&rows=100&filter=from-pub-date:2010,until-pub-date:2015\"\n",
    "result = requests.get(url)\n",
    "data = result.json()\n",
    "data['message']['total-results']"
   ]
  },
  {
   "cell_type": "markdown",
   "metadata": {},
   "source": [
    "### Kombinierte Abfragen\n",
    "\n",
    "Beispiel [SemanticScholar](https://api.semanticscholar.org/): Hier kann man Daten zu Papers abfragen, wenn man denn den Identifier kennt. Hier ist ein Use-Case vorstellbar, in dem man bereits eine Liste von Identifiern hat, und nun jeweils die Daten abfragen möchte. Da bietet sich Iteration an:"
   ]
  },
  {
   "cell_type": "code",
   "execution_count": null,
   "metadata": {},
   "outputs": [],
   "source": [
    "base_url = \"https://api.semanticscholar.org/v1/paper/\"\n",
    "\n",
    "# die Liste der Identifier kann aus einer Quelle stammen, z.B. von einer Datei eingelesen werden, die man hierfür pflegt\n",
    "identifiers = [\"arXiv:1705.10311\", \"arXiv:1705.10312\", \"arXiv:1705.10313\", \"arXiv:1705.10314\"]\n",
    "\n",
    "results = []\n",
    "\n",
    "for identifier in identifiers:\n",
    "    url = base_url + identifier\n",
    "    result = requests.get(url)\n",
    "    data = result.json()\n",
    "    results.append(data)"
   ]
  },
  {
   "cell_type": "code",
   "execution_count": null,
   "metadata": {},
   "outputs": [],
   "source": [
    "len(results)"
   ]
  },
  {
   "cell_type": "code",
   "execution_count": null,
   "metadata": {},
   "outputs": [],
   "source": [
    "results[0].keys()"
   ]
  },
  {
   "cell_type": "markdown",
   "metadata": {},
   "source": [
    "### Etiquette\n",
    "\n",
    "Generell ist davon abzuraten, einen fremden Webserver mit allzu häufigen Anfragen zu bombardieren. Vermeidungsstrategien sind hierbei, wie auch in der Crossref-Etiquette angegeben, gezielte Pausen zwischen Abfragen, sowie Caching. Caching ist insbesondere bei wiederholt gleichen Anfragen anzuraten. Bei verschiedenen Anfragen sollte zwischen jeder Anfrage eine kleine Pause eingehalten werden. Hierfür gibt es keine festen Vorschriften, einige Sekunden bis maximal eine Minute sollte idR ausreichend sein.\n",
    "\n",
    "Um das programmatisch zu erreichen, kann man in Python die sleep Funktion benutzen:\n",
    "\n",
    "```\n",
    "import time\n",
    "\n",
    "for query in queries:\n",
    "    # Abfrage mit der query an den Webserver\n",
    "    time.sleep(1000) # 1000ms = 1s warten, bevor die nächste Anweisung ausgeführt wird\n",
    "```\n",
    "\n",
    "Tutorial: https://realpython.com/python-sleep/"
   ]
  },
  {
   "cell_type": "markdown",
   "metadata": {},
   "source": [
    "---"
   ]
  },
  {
   "cell_type": "markdown",
   "metadata": {},
   "source": [
    "## OAI-PMH APIs mit Python abfragen"
   ]
  },
  {
   "cell_type": "markdown",
   "metadata": {},
   "source": [
    "Für den Fall, dass das mal für jemanden relevant wird, hier ein Beispiel, wie man eine OAI-PMH API mittels Python abfragen kann.\n",
    "\n",
    "In diesem Beispiel erfolgt das mit der *pyoai* Library, die eine Drittanbieter-Library ist und daher erst installiert werden muss. Nach Bedarf die folgenden Zeilen hierfür auskommentieren."
   ]
  },
  {
   "cell_type": "code",
   "execution_count": null,
   "metadata": {},
   "outputs": [],
   "source": [
    "#import sys\n",
    "#!conda install --yes --prefix {sys.prefix} -c auto pyoai\n",
    "#!{sys.executable} -m pip install pyoai"
   ]
  },
  {
   "cell_type": "code",
   "execution_count": null,
   "metadata": {},
   "outputs": [],
   "source": [
    "OAI_PHM_URL = 'https://www.ssoar.info/OAIHandler/request'"
   ]
  },
  {
   "cell_type": "code",
   "execution_count": null,
   "metadata": {},
   "outputs": [],
   "source": [
    "from oaipmh.client import Client\n",
    "from oaipmh.metadata import MetadataRegistry, oai_dc_reader\n",
    "\n",
    "registry = MetadataRegistry()\n",
    "registry.registerReader('oai_dc', oai_dc_reader)\n",
    "client = Client(OAI_PHM_URL, registry)"
   ]
  },
  {
   "cell_type": "code",
   "execution_count": null,
   "metadata": {},
   "outputs": [],
   "source": [
    "# Get single record\n",
    "record = client.getRecord(metadataPrefix='oai_dc', identifier='oai:gesis.izsoz.de:document/679')\n",
    "header = record[0]\n",
    "print('id: {}'.format(header.identifier()))\n",
    "print('element: {}'.format(header.element()))\n",
    "print('datestamp: {}'.format(header.datestamp()))"
   ]
  },
  {
   "cell_type": "code",
   "execution_count": null,
   "metadata": {},
   "outputs": [],
   "source": [
    "metadata = record[1].getMap()\n",
    "if 'creator' in metadata:\n",
    "    print('creator: {}'.format(metadata['creator']))"
   ]
  },
  {
   "cell_type": "code",
   "execution_count": null,
   "metadata": {},
   "outputs": [],
   "source": [
    "# List records\n",
    "for record in client.listRecords(metadataPrefix='oai_dc'):\n",
    "    header = record[0]\n",
    "    print('id: {}'.format(header.identifier()))\n",
    "    metadata = record[1].getMap()\n",
    "    if 'creator' in metadata:\n",
    "        print('creator: {}'.format(metadata['creator']))\n",
    "    if 'title' in metadata:\n",
    "        print('title: {}'.format(metadata['title']))\n",
    "    print()"
   ]
  },
  {
   "cell_type": "markdown",
   "metadata": {},
   "source": [
    "---"
   ]
  },
  {
   "cell_type": "markdown",
   "metadata": {},
   "source": [
    "## XML Verarbeitung\n",
    "\n",
    "Es gibt viele Libraries, mit denen man in Python XML verarbeiten kann. Eine Liste:\n",
    "\n",
    "* xml.dom - The Document Object Model API ([Standard](https://docs.python.org/3.5/library/xml.dom.html#)) \n",
    "* xml.etree - The ElementTree XML API ([Standard](https://docs.python.org/3.8/library/xml.etree.elementtree.html#))              \n",
    "* lxml ([Extern](https://lxml.de/index.html))\n",
    "* BeautifulSoup ([Extern](https://www.crummy.com/software/BeautifulSoup/bs4/doc/))\n",
    "\n",
    "Im Folgenden ein kleines Beispiel zum Parsen von XML mit den Möglichkeiten der Standard-Library ElementTree.\n",
    "\n",
    "Doku: https://docs.python.org/3.8/library/xml.etree.elementtree.html#"
   ]
  },
  {
   "cell_type": "code",
   "execution_count": null,
   "metadata": {},
   "outputs": [],
   "source": [
    "url = \"https://www.bibsonomy.org/layout/dblp/search/Bibliothek?items=100\"\n",
    "\n",
    "import requests\n",
    "result = requests.get(url)\n",
    "\n",
    "type(result)"
   ]
  },
  {
   "cell_type": "code",
   "execution_count": null,
   "metadata": {},
   "outputs": [],
   "source": [
    "result.text"
   ]
  },
  {
   "cell_type": "code",
   "execution_count": null,
   "metadata": {},
   "outputs": [],
   "source": [
    "from xml.etree import ElementTree as ET\n",
    "from xml.etree.ElementTree import fromstring\n",
    "\n",
    "xmlString = fromstring(result.text) # Einlesen des Strings als XML\n",
    "\n",
    "tree = ET.ElementTree(xmlString) # Parsen des XML als Baumstruktur (Element Tree)\n",
    "root = tree.getroot() # Wurzel des Baums abfragen\n",
    "root"
   ]
  },
  {
   "cell_type": "markdown",
   "metadata": {},
   "source": [
    "Wie man sieht, ist `root` vom Typ `Element`, den wir in der Musterlösung zu Aufgabe 1 schon gesehen haben."
   ]
  },
  {
   "cell_type": "code",
   "execution_count": null,
   "metadata": {},
   "outputs": [],
   "source": [
    "for book in root.findall('book'): # Kindelemente des Wurzelknotens mit bestimmtem Tag suchen\n",
    "    key = book.get('key') # Attribut des Tags abfragen\n",
    "    print(\"Key: \" + key)\n",
    "    titleTag = book.find('title') # weitere Kindknoten suchen\n",
    "    title = titleTag.text # Text extrahieren\n",
    "    print(\"Title: \" + title)\n",
    "    print()"
   ]
  }
 ],
 "metadata": {
  "kernelspec": {
   "display_name": "Python 3",
   "language": "python",
   "name": "python3"
  },
  "language_info": {
   "codemirror_mode": {
    "name": "ipython",
    "version": 3
   },
   "file_extension": ".py",
   "mimetype": "text/x-python",
   "name": "python",
   "nbconvert_exporter": "python",
   "pygments_lexer": "ipython3",
   "version": "3.8.5"
  }
 },
 "nbformat": 4,
 "nbformat_minor": 2
}
