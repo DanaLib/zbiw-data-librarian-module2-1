{
 "cells": [
  {
   "cell_type": "markdown",
   "metadata": {},
   "source": [
    "# Lösung: Generierung der Exportformate aus dem Bibsonomy-Suchergebnis"
   ]
  },
  {
   "cell_type": "code",
   "execution_count": null,
   "metadata": {},
   "outputs": [],
   "source": [
    "import json\n",
    "import requests\n",
    "\n",
    "url = \"https://www.bibsonomy.org/json/search/Bibliothek?items=1000&duplicates=merged\"\n",
    "\n",
    "result = requests.get(url)\n",
    "result # Ausgabe des Ergebnisses - gibt Typ (Response) und HTTP-Statuscode (idealerweise 200) aus"
   ]
  },
  {
   "cell_type": "code",
   "execution_count": null,
   "metadata": {},
   "outputs": [],
   "source": [
    "data = result.json()\n",
    "data # Ansicht der Ausgabe"
   ]
  },
  {
   "cell_type": "code",
   "execution_count": null,
   "metadata": {},
   "outputs": [],
   "source": [
    "items = data['items']\n",
    "\n",
    "pubList = [] # neue leere Liste\n",
    "for item in items:\n",
    "    if item['type']=='Publication': # Bedingung für Aufnahme des Items in die neue Liste\n",
    "        pubList.append(item) # item an Liste anhängen\n",
    "\n",
    "#mit list comprehension:\n",
    "#pubList = [item for item in items if item['type'] == 'Publication']"
   ]
  },
  {
   "cell_type": "code",
   "execution_count": null,
   "metadata": {},
   "outputs": [],
   "source": [
    "pubList[0] # ein Item der Ergebnisliste mal zum Prüfen ausgeben"
   ]
  },
  {
   "cell_type": "markdown",
   "metadata": {},
   "source": [
    "## Generieren des XML-Exportformats"
   ]
  },
  {
   "cell_type": "markdown",
   "metadata": {},
   "source": [
    "Die beispielhafte XML-Struktur sieht so aus:\n",
    "\n",
    "```\n",
    "<publications>\n",
    "    <publication>\n",
    "        <id>1</id>\n",
    "        <title>...</title>\n",
    "        <authors>\n",
    "            <author>...</author>\n",
    "            <author>...</author>\n",
    "        </authors>\n",
    "        <abstract>...</abstract>\n",
    "        <publisher>...</publisher>\n",
    "        <year>...</year>\n",
    "        <type>...</type>\n",
    "        <!-- weitere Felder -->\n",
    "    </publication>\n",
    "    <publication>\n",
    "    ...\n",
    "    </publication>\n",
    "    <!-- usw. -->\n",
    "</publications>\n",
    "\n",
    "```\n",
    "\n",
    "Die Idee der ID könnte sein, statt der bibsonomy-internen ID eine neue zu verwenden, die für jeden Datensatz hochgezählt wird."
   ]
  },
  {
   "cell_type": "code",
   "execution_count": null,
   "metadata": {},
   "outputs": [],
   "source": [
    "# Einschub: String-Konkatenation\n",
    "a = '<tag>'\n",
    "b = 'hallo'\n",
    "c = '</tag>'\n",
    "\n",
    "concatenated = a+b+c # mit + lassen sich Strings einfach zusammenfügen\n",
    "print(concatenated)"
   ]
  },
  {
   "cell_type": "code",
   "execution_count": null,
   "metadata": {},
   "outputs": [],
   "source": [
    "with open('output/bibsonomy-manuell.xml', 'w', encoding=\"utf-8\") as outfile:\n",
    "    \n",
    "    # Zunächst muss das Wurzelelement geschrieben werden\n",
    "    outfile.write('<publications>\\n')\n",
    "    \n",
    "    # Nun iterieren wir über unsere Datensätze\n",
    "    for index, data in enumerate(pubList): # enumerate gibt Tupel (index, item) zurück\n",
    "        outfile.write('\\t<publication>\\n')\n",
    "        \n",
    "        index_str = str(index) # zunächst die Zahl zum String umwandeln\n",
    "        \n",
    "        outfile.write('\\t\\t<id>' + index_str + '</id>\\n') # Index-String mit den anderen Zeichenfolgen verbinden\n",
    "        \n",
    "        # Bereinigen des Titels\n",
    "        title = data['label']\n",
    "        title = title.replace(\"<\", \"&lt;\")\n",
    "        title = title.replace(\">\", \"&gt;\")\n",
    "        title = title.replace(\"&\", \"&amp;\")\n",
    "        \n",
    "        outfile.write('\\t\\t<title>' + title + '</title>\\n')\n",
    "        \n",
    "        outfile.write('\\t\\t<authors>\\n')\n",
    "        if 'author' in data:\n",
    "            for author in data['author']:\n",
    "                outfile.write('\\t\\t\\t<author>' + author + '</author>\\n')\n",
    "        outfile.write('\\t\\t</authors>\\n')\n",
    "        \n",
    "        outfile.write('\\t\\t<abstract>')\n",
    "        if 'abstract' in data:\n",
    "            # Bereinigen des Abstract\n",
    "            abstract = data['abstract']\n",
    "            abstract = abstract.replace(\"\\n\\n\", \" \")\n",
    "            abstract = abstract.replace(\"<\", \"&lt;\")\n",
    "            abstract = abstract.replace(\">\", \"&gt;\")\n",
    "            abstract = abstract.replace(\"&\", \"&amp;\")\n",
    "            \n",
    "            outfile.write(abstract)\n",
    "        outfile.write('</abstract>\\n')\n",
    "        \n",
    "        outfile.write('\\t\\t<publisher>')\n",
    "        if 'publisher' in data:\n",
    "            publisher = data['publisher'].replace(\"&\", \"&amp;\")\n",
    "            outfile.write(publisher)\n",
    "        outfile.write('</publisher>\\n')\n",
    "            \n",
    "        outfile.write('\\t\\t<year>' + data['year'] + '</year>\\n')\n",
    "        \n",
    "        outfile.write('\\t\\t<type>' + data['pub-type'] + '</type>\\n')\n",
    "        \n",
    "        outfile.write('\\t</publication>\\n')\n",
    "        \n",
    "    # Am Schluss wird das Wurzelelement geschlossen\n",
    "    outfile.write('</publications>')"
   ]
  },
  {
   "cell_type": "markdown",
   "metadata": {},
   "source": [
    "### Erläuterungen\n",
    "\n",
    "* wir verwenden hier Steuerzeichen für Zeilenumbrüche (`\\n`) und Tabulatoren (`\\t`) lediglich, damit der Output am Ende besser lesbar ist\n",
    "* die Zeichen <, > und & sind in XML bereits reserviert (wie einige andere) - entsprechend müssen eventuelle Vorkommen in Strings zuvor bereinigt werden. Die `replace` Funktion ersetzt alle Vorkommen des ersten Parameters durch den zweiten. (Es würde sich anbieten, hierfür eine separate Funktion zu schreiben, die alle Bereinigungen durchführt.)\n",
    "* nicht jeder unserer Datensätze enthält alle gefragten Daten. Daher sind mitunter `if`-Abfragen nötig, damit es nicht zu einem `KeyError` beim Zugriff auf nicht existente Schlüssel gibt."
   ]
  },
  {
   "cell_type": "markdown",
   "metadata": {},
   "source": [
    "#### Einschub: Übersicht über vorhandene Keys erstellen"
   ]
  },
  {
   "cell_type": "markdown",
   "metadata": {},
   "source": [
    "Einfache Übersicht: Durch Iteration über den Datensatz eine Liste der darin vorhandenen Keys erstellen."
   ]
  },
  {
   "cell_type": "code",
   "execution_count": null,
   "metadata": {},
   "outputs": [],
   "source": [
    "keyList = []\n",
    "\n",
    "for elem in pubList:\n",
    "    for key in elem.keys():\n",
    "        if key not in keyList: # wenn der Key bisher nicht in der Liste ist\n",
    "            keyList.append(key)\n",
    "            \n",
    "len(keyList) # wie viele verschiedene Keys insgesamt?"
   ]
  },
  {
   "cell_type": "markdown",
   "metadata": {},
   "source": [
    "Statistische Übersicht: welcher Key kommt wie häufig vor? Hierfür wird ein Dictionary benötigt, das jedem Key den Zähler zuweist."
   ]
  },
  {
   "cell_type": "code",
   "execution_count": null,
   "metadata": {},
   "outputs": [],
   "source": [
    "keyDict = {}\n",
    "\n",
    "for elem in pubList:\n",
    "    for key in elem.keys():\n",
    "        if key not in keyDict: # wenn noch nicht gesehen...\n",
    "            keyDict[key] = 1 # ... Initialwert 1\n",
    "        else:\n",
    "            keyDict[key] += 1 # sonst den bisher zugewiesenen Wert um 1 erhöhen\n",
    "keyDict"
   ]
  },
  {
   "cell_type": "markdown",
   "metadata": {},
   "source": [
    "### Alternative XML-Erzeugung: ElementTree"
   ]
  },
  {
   "cell_type": "markdown",
   "metadata": {},
   "source": [
    "Das Python-Modul [ElementTree](https://docs.python.org/3.8/library/xml.etree.elementtree.html#) eignet sich zum Erzeugen wie auch zum Lesen von XML. Insbesondere zum Lesen ist es quasi unabdinglich, ein Modul wie dieses zu benutzen, da es aufgrund der hierarchischen Struktur des Formates manuell ungleich schwieriger ist."
   ]
  },
  {
   "cell_type": "code",
   "execution_count": null,
   "metadata": {},
   "outputs": [],
   "source": [
    "import xml.etree.ElementTree as ET"
   ]
  },
  {
   "cell_type": "markdown",
   "metadata": {},
   "source": [
    "Wir verwenden `as ET` beim Import, um für zukünftige Aufrufe nur dieses Kürzel verwenden zu müssen, statt des ausführlichen Namens `ElementTree`."
   ]
  },
  {
   "cell_type": "markdown",
   "metadata": {},
   "source": [
    "Die wesentlichen Methoden des Moduls zum Erzeugen einer neuen Struktur sind `Element` und `Subelement`. Der wesentliche Parameter für `Element` ist der Tag-Bezeichner. `SubElement` bekommt als zusätzliches Argument das Eltern-Element.\n",
    "\n",
    "Hier ein Beispiel, um eine Teilstruktur zu erzeugen:"
   ]
  },
  {
   "cell_type": "code",
   "execution_count": null,
   "metadata": {},
   "outputs": [],
   "source": [
    "publications = ET.Element('publications') # einfaches Element\n",
    "publication = ET.SubElement(publications, 'publication') # Kindelement des root-Elements\n",
    "title = ET.SubElement(publication, 'title') # Kindelement des publication-Elements\n",
    "abstract = ET.SubElement(publication, 'abstract') # weiteres Kindelement des publication-Elements\n",
    "ET.dump(publications) # Ausgabe der Struktur"
   ]
  },
  {
   "cell_type": "markdown",
   "metadata": {},
   "source": [
    "Hier fehlt zunächst noch sämtlicher Inhalt. Textuellen Inhalt setzt man mit der Methode `text` auf ein Element."
   ]
  },
  {
   "cell_type": "code",
   "execution_count": null,
   "metadata": {},
   "outputs": [],
   "source": [
    "publications = ET.Element('publications') # einfaches Element\n",
    "publication = ET.SubElement(publications, 'publication') # Kindelement des root-Elements\n",
    "title = ET.SubElement(publication, 'title') # Kindelement des publication-Elements\n",
    "title.text = \"Ein Titel\"\n",
    "abstract = ET.SubElement(publication, 'abstract') # weiteres Kindelement des publication-Elements\n",
    "abstract.text = \"Ein abstract\"\n",
    "ET.dump(publications)"
   ]
  },
  {
   "cell_type": "markdown",
   "metadata": {},
   "source": [
    "Um die Struktur in eine Datei zu schreiben, gibt es auch eine einfache Methode: `write`. Hier gibt es viele Parameter zum Steuern der Ausgabe, nachzuschlagen in der [Dokumentation](https://docs.python.org/3.8/library/xml.etree.elementtree.html#xml.etree.ElementTree.ElementTree.write). Am wichtigsten sind natürlich der Dateiname, und ggf. das Encoding (Standard ist hier ASCII). Der dritte Parameter ist sinnvoll, um die XML-Deklaration hinzuzufügen, um komplett valides XML zu erhalten."
   ]
  },
  {
   "cell_type": "code",
   "execution_count": null,
   "metadata": {},
   "outputs": [],
   "source": [
    "xml = ET.ElementTree(publications)\n",
    "xml.write(\"output/example.xml\",\"utf-8\", True)"
   ]
  },
  {
   "cell_type": "markdown",
   "metadata": {},
   "source": [
    "Mit diesen Informationen ließe sich nun eine Lösung für die Aufgabe mit ElementTree gestalten, die uns das manuelle Schreiben der Start- und Endtags ebenso wie das Escapen von Spezialzeichen erspart:"
   ]
  },
  {
   "cell_type": "code",
   "execution_count": null,
   "metadata": {},
   "outputs": [],
   "source": [
    "publications = ET.Element(\"publications\")\n",
    "for index, data in enumerate(pubList):\n",
    "    publication = ET.Element(\"publication\")\n",
    "    id = ET.SubElement(publication, \"id\")\n",
    "    id.text = str(index+1) # index+1, weil der Index sonst bei 0 startet\n",
    "    \n",
    "    if \"label\" in data:\n",
    "        title = ET.SubElement(publication,\"title\")\n",
    "        title.text = data.get('label')\n",
    "    if \"authors\" in data:\n",
    "        authors = ET.SubElement(publication,\"authors\")\n",
    "        for i in range(len(data.get(\"authors\"))):\n",
    "            author = ET.SubElement(authors,\"author\")\n",
    "            firstName = ET.SubElement(author,\"firstName\")\n",
    "            firstName.text = data.get(\"authors\")[i].get('first') \n",
    "            lastName = ET.SubElement(author,\"lastName\")\n",
    "            lastName.text = data.get(\"authors\")[i].get('last')\n",
    "    if \"abstract\" in data:\n",
    "        abstract = ET.SubElement(publication,\"abstract\")\n",
    "        abstract.text = data.get('abstract')\n",
    "    if \"publisher\" in data:\n",
    "        publisher = ET.SubElement(publication,\"publisher\")\n",
    "        publisher.text = data.get('publisher')\n",
    "    if \"year\" in data:\n",
    "        year = ET.SubElement(publication,\"year\")\n",
    "        year.text = data.get('year')\n",
    "    if \"pub-type\" in data:\n",
    "        pubtype = ET.SubElement(publication,\"type\")\n",
    "        pubtype.text = data.get('pub-type')   \n",
    "\n",
    "    publications.append(publication)\n",
    "\n",
    "xml = ET.ElementTree(publications)\n",
    "xml.write(\"output/bibsonomy.xml\",\"utf-8\", True)"
   ]
  },
  {
   "cell_type": "markdown",
   "metadata": {},
   "source": [
    "---"
   ]
  },
  {
   "cell_type": "markdown",
   "metadata": {},
   "source": [
    "## Generieren des Solr-Exportformats"
   ]
  },
  {
   "cell_type": "markdown",
   "metadata": {},
   "source": [
    "Solr akzeptiert bereits JSON als Importformat, daher könnten wir auch beinahe den Datensatz wie er jetzt ist übergeben. Selbst eine ID ist darin bereits vorhanden (es handelt sich um die eindeutige bibsonomy URL zum Datensatz).\n",
    "\n",
    "Wir wollen allerdings die Daten vorher noch etwas bereinigen, insbesondere unnötige Felder weglassen und Felder mit schlechten Bezeichnungen umbenennen ('label' -> 'title')."
   ]
  },
  {
   "cell_type": "code",
   "execution_count": null,
   "metadata": {},
   "outputs": [],
   "source": [
    "for item in pubList:\n",
    "    item['title'] = item.pop('label') # Key umbenennen\n",
    "    item.pop('intraHash', None) # alternativ: löschen mit del\n",
    "    #del item['intraHash']\n",
    "    item.pop('interHash', None)\n",
    "    item.pop('user', None)\n",
    "    item.pop('dnbtitleid', None)\n",
    "    item.pop('bibtexKey', None)    "
   ]
  },
  {
   "cell_type": "code",
   "execution_count": null,
   "metadata": {},
   "outputs": [],
   "source": [
    "#Ausgabe des Ergebnisses zum Prüfen\n",
    "print(json.dumps(pubList, indent=4))"
   ]
  },
  {
   "cell_type": "code",
   "execution_count": null,
   "metadata": {},
   "outputs": [],
   "source": [
    "with open('output/bibsonomy_to_solr.json', 'w', encoding=\"utf-8\") as outfile:\n",
    "    json.dump(pubList, outfile, indent=4)"
   ]
  },
  {
   "cell_type": "markdown",
   "metadata": {},
   "source": [
    "---\n",
    "\n",
    "Zur Frage: wie könnte ich viele Keys auf einmal löschen, mithilfe der erstellten Statistik über die Vorkommen der Keys?\n",
    "\n",
    "Das ließe sich über Iteration sowohl über die Publikationsliste als auch die Keys lösen. Wir können hierbei nicht direkt aus dem jeweiligen Item löschen, da man während der Iteration die Daten nicht verändern darf."
   ]
  },
  {
   "cell_type": "code",
   "execution_count": null,
   "metadata": {},
   "outputs": [],
   "source": [
    "cleanedList = [] # neue Liste für die bereinigten Items\n",
    "\n",
    "for item in pubList:\n",
    "    newItem = {} # neues Item\n",
    "    for key in item.keys():\n",
    "        if keyDict[key] > 100:\n",
    "            newItem[key] = item[key] # der Inhalt wird nur ins neue Item aufgenommen, wenn der Key häufig genug vorkommt\n",
    "    cleanedList.append(newItem) # neues Item der Liste hinzufügen\n",
    "    \n",
    "cleanedList"
   ]
  }
 ],
 "metadata": {
  "kernelspec": {
   "display_name": "Python 3",
   "language": "python",
   "name": "python3"
  },
  "language_info": {
   "codemirror_mode": {
    "name": "ipython",
    "version": 3
   },
   "file_extension": ".py",
   "mimetype": "text/x-python",
   "name": "python",
   "nbconvert_exporter": "python",
   "pygments_lexer": "ipython3",
   "version": "3.8.5"
  }
 },
 "nbformat": 4,
 "nbformat_minor": 2
}
